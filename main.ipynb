{
 "cells": [
  {
   "cell_type": "code",
   "id": "initial_id",
   "metadata": {
    "collapsed": true,
    "ExecuteTime": {
     "end_time": "2024-07-29T21:00:00.232507Z",
     "start_time": "2024-07-29T21:00:00.207822Z"
    }
   },
   "source": [
    "import gym\n",
    "\n",
    "env = gym.envs.make(\"CartPole-v1\")"
   ],
   "outputs": [],
   "execution_count": 17
  },
  {
   "metadata": {
    "ExecuteTime": {
     "end_time": "2024-07-29T21:02:03.438608Z",
     "start_time": "2024-07-29T21:02:03.415861Z"
    }
   },
   "cell_type": "code",
   "source": "env.reset()",
   "id": "fbae2ed2ac182698",
   "outputs": [
    {
     "data": {
      "text/plain": [
       "(array([-0.04820433,  0.02400856, -0.03861728,  0.00659723], dtype=float32),\n",
       " {})"
      ]
     },
     "execution_count": 18,
     "metadata": {},
     "output_type": "execute_result"
    }
   ],
   "execution_count": 18
  },
  {
   "metadata": {
    "ExecuteTime": {
     "end_time": "2024-07-29T19:59:27.758038Z",
     "start_time": "2024-07-29T19:59:27.738712Z"
    }
   },
   "cell_type": "code",
   "source": "x = 3",
   "id": "5e5c007990fcf77a",
   "outputs": [],
   "execution_count": 12
  },
  {
   "metadata": {
    "ExecuteTime": {
     "end_time": "2024-07-29T19:59:32.852399Z",
     "start_time": "2024-07-29T19:59:32.847061Z"
    }
   },
   "cell_type": "code",
   "source": "x = x * x",
   "id": "24fc81f4d18ec965",
   "outputs": [],
   "execution_count": 14
  },
  {
   "metadata": {
    "ExecuteTime": {
     "end_time": "2024-07-29T19:59:33.898160Z",
     "start_time": "2024-07-29T19:59:33.888448Z"
    }
   },
   "cell_type": "code",
   "source": "print(x)",
   "id": "3fc15c996115314b",
   "outputs": [
    {
     "name": "stdout",
     "output_type": "stream",
     "text": [
      "9\n"
     ]
    }
   ],
   "execution_count": 15
  },
  {
   "metadata": {},
   "cell_type": "code",
   "outputs": [],
   "execution_count": null,
   "source": "",
   "id": "138b76f7d6ff3c8b"
  }
 ],
 "metadata": {
  "kernelspec": {
   "display_name": "Python 3",
   "language": "python",
   "name": "python3"
  },
  "language_info": {
   "codemirror_mode": {
    "name": "ipython",
    "version": 2
   },
   "file_extension": ".py",
   "mimetype": "text/x-python",
   "name": "python",
   "nbconvert_exporter": "python",
   "pygments_lexer": "ipython2",
   "version": "2.7.6"
  }
 },
 "nbformat": 4,
 "nbformat_minor": 5
}
