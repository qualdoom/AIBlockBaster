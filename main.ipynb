{
 "cells": [
  {
   "cell_type": "code",
   "id": "initial_id",
   "metadata": {
    "collapsed": true,
    "ExecuteTime": {
     "end_time": "2024-07-30T13:20:36.852519Z",
     "start_time": "2024-07-30T13:20:33.527070Z"
    }
   },
   "source": [
    "import torch\n",
    "\n",
    "from config import *\n",
    "from game import *\n",
    "\n",
    "import numpy as np\n",
    "import torch.nn as nn\n",
    "import torch.nn.functional as F\n",
    "import matplotlib.pyplot as plt"
   ],
   "outputs": [],
   "execution_count": 1
  },
  {
   "metadata": {
    "ExecuteTime": {
     "end_time": "2024-07-30T13:20:36.868523Z",
     "start_time": "2024-07-30T13:20:36.854518Z"
    }
   },
   "cell_type": "code",
   "source": [
    "class Network(nn.Module):\n",
    "\n",
    "    def __init__(self):\n",
    "        super(Network, self).__init__()\n",
    "        self.fc1 = nn.Linear(HEIGHT * WIDTH, 512)\n",
    "        self.fc2 = nn.Linear(512, 512)\n",
    "        self.fc3 = nn.Linear(512, 1)\n",
    "\n",
    "    def forward(self, game):\n",
    "        x = game.convertToTensor() - 0.5\n",
    "        x = F.relu(self.fc1(x))\n",
    "        x = F.relu(self.fc2(x))\n",
    "        x = self.fc3(x)\n",
    "\n",
    "        return x"
   ],
   "id": "479888ea0ebfdfe0",
   "outputs": [],
   "execution_count": 2
  },
  {
   "metadata": {
    "ExecuteTime": {
     "end_time": "2024-07-30T13:20:38.120996Z",
     "start_time": "2024-07-30T13:20:36.870521Z"
    }
   },
   "cell_type": "code",
   "source": [
    "gamma = 0.99\n",
    "learningRate = 0.01\n",
    "\n",
    "framesPerUpdateTarget = 1000\n",
    "cntFrames = 0\n",
    "\n",
    "network = Network()\n",
    "target_network = Network()\n",
    "target_network.load_state_dict(network.state_dict())\n",
    "criterion = nn.MSELoss()\n",
    "optimizer = torch.optim.Adam(network.parameters(), lr=learningRate)\n",
    "\n",
    "optimizer.zero_grad()"
   ],
   "id": "fbae2ed2ac182698",
   "outputs": [],
   "execution_count": 3
  },
  {
   "metadata": {
    "ExecuteTime": {
     "end_time": "2024-07-30T13:20:38.136647Z",
     "start_time": "2024-07-30T13:20:38.122998Z"
    }
   },
   "cell_type": "code",
   "source": [
    "def getAvailablePlaces(g, figureID):\n",
    "    availablePlaces = []\n",
    "    for i in range(HEIGHT):\n",
    "        for j in range(WIDTH):\n",
    "            if g.canPlace(i, j, figureID):\n",
    "                availablePlaces.append([i, j])\n",
    "    return availablePlaces"
   ],
   "id": "dabf44544f965a98",
   "outputs": [],
   "execution_count": 4
  },
  {
   "metadata": {
    "ExecuteTime": {
     "end_time": "2024-07-30T13:20:38.152540Z",
     "start_time": "2024-07-30T13:20:38.140651Z"
    }
   },
   "cell_type": "code",
   "source": [
    "def playGame(t_max=10_000, epsilon=0.1):\n",
    "    global cntFrames\n",
    "    g = Game()\n",
    "    g.reset()\n",
    "    \n",
    "    totalReward = 0\n",
    "    \n",
    "    for _ in range(t_max):\n",
    "        nextFigureID = g.generateNextFigure()\n",
    "        availablePlaces = getAvailablePlaces(g, nextFigureID)\n",
    "        \n",
    "        if len(availablePlaces) == 0:\n",
    "            # done\n",
    "            # print(_)\n",
    "            break\n",
    "        \n",
    "        if np.random.random() < epsilon:\n",
    "            # make random action\n",
    "            place = availablePlaces[np.random.randint(len(availablePlaces))]\n",
    "            \n",
    "            flag, reward, nextState = makeStep(g, nextFigureID, place[0], place[1])\n",
    "            totalReward += reward\n",
    "            \n",
    "            nextScore = target_network(nextState).detach() * gamma + reward\n",
    "            optimizer.zero_grad()\n",
    "            loss = criterion(network(g), nextScore)\n",
    "            loss.backward()\n",
    "            optimizer.step()\n",
    "            \n",
    "            g = nextState\n",
    "        else:\n",
    "            bestScore = None\n",
    "            bestState = None\n",
    "            for place in availablePlaces:\n",
    "                flag, reward, nextState = makeStep(g, nextFigureID, place[0], place[1])\n",
    "                nextScore = target_network(nextState).detach() * gamma + reward\n",
    "                \n",
    "                if bestScore is None or nextScore > bestScore:\n",
    "                    bestScore = nextScore\n",
    "                    bestState = nextState\n",
    "        \n",
    "            optimizer.zero_grad()\n",
    "            loss = criterion(network(g), bestScore)\n",
    "            loss.backward()\n",
    "            optimizer.step()\n",
    "            \n",
    "            g = bestState\n",
    "        \n",
    "        cntFrames += 1\n",
    "        \n",
    "        if cntFrames % framesPerUpdateTarget == 0:\n",
    "            target_network.load_state_dict(network.state_dict())\n",
    "            \n",
    "        \n",
    "    return totalReward"
   ],
   "id": "138b76f7d6ff3c8b",
   "outputs": [],
   "execution_count": 5
  },
  {
   "metadata": {
    "ExecuteTime": {
     "end_time": "2024-07-30T13:20:38.167683Z",
     "start_time": "2024-07-30T13:20:38.154541Z"
    }
   },
   "cell_type": "code",
   "source": "epsilon = 0.9",
   "id": "924a77e608bfde2d",
   "outputs": [],
   "execution_count": 6
  },
  {
   "metadata": {
    "jupyter": {
     "is_executing": true
    }
   },
   "cell_type": "code",
   "source": [
    "from IPython.display import clear_output\n",
    "\n",
    "x = []\n",
    "y = []\n",
    "\n",
    "for i in range(2000):\n",
    "    session_rewards = [playGame(t_max=10000, epsilon=epsilon) for _ in range(20)]\n",
    "    \n",
    "    clear_output(True)\n",
    "    print(\"epoch #{}\\tmean reward = {:.3f}\\tepsilon = {:.3f}\".format(i, np.mean(session_rewards), epsilon))\n",
    "    \n",
    "    epsilon = max(epsilon * 0.99, 0.1)\n",
    "    \n",
    "    x.append(i)\n",
    "    y.append(np.mean(session_rewards))\n",
    "\n",
    "    plt.plot(x, y)\n",
    "    plt.show()"
   ],
   "id": "e76c760f44c00163",
   "execution_count": null,
   "outputs": [
    {
     "data": {
      "text/plain": [
       "<Figure size 640x480 with 1 Axes>"
      ],
      "image/png": "[encoded data removed]"
     },
     "metadata": {},
     "output_type": "display_data"
    }
   ]
  },
  {
   "metadata": {
    "jupyter": {
     "is_executing": true
    }
   },
   "cell_type": "code",
   "source": "",
   "id": "646db23e0fb2136b",
   "outputs": [],
   "execution_count": null
  }
 ],
 "metadata": {
  "kernelspec": {
   "display_name": "Python 3",
   "language": "python",
   "name": "python3"
  },
  "language_info": {
   "codemirror_mode": {
    "name": "ipython",
    "version": 2
   },
   "file_extension": ".py",
   "mimetype": "text/x-python",
   "name": "python",
   "nbconvert_exporter": "python",
   "pygments_lexer": "ipython2",
   "version": "2.7.6"
  }
 },
 "nbformat": 4,
 "nbformat_minor": 5
}
